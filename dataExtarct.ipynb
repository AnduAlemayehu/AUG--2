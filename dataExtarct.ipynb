{
  "nbformat": 4,
  "nbformat_minor": 0,
  "metadata": {
    "colab": {
      "provenance": [],
      "mount_file_id": "1ICCxWHvbVSqg-lmsVithEVBY4TYYIQpo",
      "authorship_tag": "ABX9TyOhdM/dEr8gvjQiLLIQMVjq",
      "include_colab_link": true
    },
    "kernelspec": {
      "name": "python3",
      "display_name": "Python 3"
    },
    "language_info": {
      "name": "python"
    }
  },
  "cells": [
    {
      "cell_type": "markdown",
      "metadata": {
        "id": "view-in-github",
        "colab_type": "text"
      },
      "source": [
        "<a href=\"https://colab.research.google.com/github/AnduAlemayehu/AUG--2/blob/main/dataExtarct.ipynb\" target=\"_parent\"><img src=\"https://colab.research.google.com/assets/colab-badge.svg\" alt=\"Open In Colab\"/></a>"
      ]
    },
    {
      "cell_type": "code",
      "execution_count": 2,
      "metadata": {
        "colab": {
          "base_uri": "https://localhost:8080/"
        },
        "id": "PC5Y24sfjI4F",
        "outputId": "02e8a730-eb70-4166-8c86-e9277ea7fbb0"
      },
      "outputs": [
        {
          "output_type": "stream",
          "name": "stdout",
          "text": [
            "Collecting pdfplumber\n",
            "  Downloading pdfplumber-0.11.7-py3-none-any.whl.metadata (42 kB)\n",
            "\u001b[?25l     \u001b[90m━━━━━━━━━━━━━━━━━━━━━━━━━━━━━━━━━━━━━━━━\u001b[0m \u001b[32m0.0/42.8 kB\u001b[0m \u001b[31m?\u001b[0m eta \u001b[36m-:--:--\u001b[0m\r\u001b[2K     \u001b[90m━━━━━━━━━━━━━━━━━━━━━━━━━━━━━━━━━━━━━━━━\u001b[0m \u001b[32m42.8/42.8 kB\u001b[0m \u001b[31m3.2 MB/s\u001b[0m eta \u001b[36m0:00:00\u001b[0m\n",
            "\u001b[?25hCollecting pdfminer.six==20250506 (from pdfplumber)\n",
            "  Downloading pdfminer_six-20250506-py3-none-any.whl.metadata (4.2 kB)\n",
            "Requirement already satisfied: Pillow>=9.1 in /usr/local/lib/python3.12/dist-packages (from pdfplumber) (11.3.0)\n",
            "Collecting pypdfium2>=4.18.0 (from pdfplumber)\n",
            "  Downloading pypdfium2-4.30.0-py3-none-manylinux_2_17_x86_64.manylinux2014_x86_64.whl.metadata (48 kB)\n",
            "\u001b[2K     \u001b[90m━━━━━━━━━━━━━━━━━━━━━━━━━━━━━━━━━━━━━━━━\u001b[0m \u001b[32m48.5/48.5 kB\u001b[0m \u001b[31m3.5 MB/s\u001b[0m eta \u001b[36m0:00:00\u001b[0m\n",
            "\u001b[?25hRequirement already satisfied: charset-normalizer>=2.0.0 in /usr/local/lib/python3.12/dist-packages (from pdfminer.six==20250506->pdfplumber) (3.4.4)\n",
            "Requirement already satisfied: cryptography>=36.0.0 in /usr/local/lib/python3.12/dist-packages (from pdfminer.six==20250506->pdfplumber) (43.0.3)\n",
            "Requirement already satisfied: cffi>=1.12 in /usr/local/lib/python3.12/dist-packages (from cryptography>=36.0.0->pdfminer.six==20250506->pdfplumber) (2.0.0)\n",
            "Requirement already satisfied: pycparser in /usr/local/lib/python3.12/dist-packages (from cffi>=1.12->cryptography>=36.0.0->pdfminer.six==20250506->pdfplumber) (2.23)\n",
            "Downloading pdfplumber-0.11.7-py3-none-any.whl (60 kB)\n",
            "\u001b[2K   \u001b[90m━━━━━━━━━━━━━━━━━━━━━━━━━━━━━━━━━━━━━━━━\u001b[0m \u001b[32m60.0/60.0 kB\u001b[0m \u001b[31m5.2 MB/s\u001b[0m eta \u001b[36m0:00:00\u001b[0m\n",
            "\u001b[?25hDownloading pdfminer_six-20250506-py3-none-any.whl (5.6 MB)\n",
            "\u001b[2K   \u001b[90m━━━━━━━━━━━━━━━━━━━━━━━━━━━━━━━━━━━━━━━━\u001b[0m \u001b[32m5.6/5.6 MB\u001b[0m \u001b[31m110.1 MB/s\u001b[0m eta \u001b[36m0:00:00\u001b[0m\n",
            "\u001b[?25hDownloading pypdfium2-4.30.0-py3-none-manylinux_2_17_x86_64.manylinux2014_x86_64.whl (2.8 MB)\n",
            "\u001b[2K   \u001b[90m━━━━━━━━━━━━━━━━━━━━━━━━━━━━━━━━━━━━━━━━\u001b[0m \u001b[32m2.8/2.8 MB\u001b[0m \u001b[31m96.9 MB/s\u001b[0m eta \u001b[36m0:00:00\u001b[0m\n",
            "\u001b[?25hInstalling collected packages: pypdfium2, pdfminer.six, pdfplumber\n",
            "Successfully installed pdfminer.six-20250506 pdfplumber-0.11.7 pypdfium2-4.30.0\n"
          ]
        }
      ],
      "source": [
        "!pip install pdfplumber"
      ]
    },
    {
      "cell_type": "code",
      "source": [
        "import pdfplumber\n",
        "import re\n",
        "\n",
        "input_pdf = '/content/drive/MyDrive/MachineTranslation/lamala_kifle.pdf'\n",
        "output_file = \"merged_questions.txt\"\n",
        "\n",
        "all_questions = []\n",
        "\n",
        "with pdfplumber.open(input_pdf) as pdf:\n",
        "    for i, page in enumerate(pdf.pages, 1):\n",
        "        text = page.extract_text()\n",
        "        if not text:\n",
        "            continue\n",
        "\n",
        "        # Split into sentences\n",
        "        sentences = re.split(r'(?<=[.?!])\\s+', text)\n",
        "        sentences = [s.strip() for s in sentences if s.strip()]\n",
        "\n",
        "        # Keep questions\n",
        "        questions = [s for s in sentences if '?' in s]\n",
        "\n",
        "        all_questions.extend(questions)\n",
        "\n",
        "        if i % 10 == 0:\n",
        "            print(f\"Processed page {i}/{len(pdf.pages)}\")\n",
        "\n",
        "# Remove duplicates\n",
        "unique_questions = list(dict.fromkeys(all_questions))\n",
        "\n",
        "# Merge short questions <20 words\n",
        "merged = []\n",
        "buffer = []\n",
        "word_count = 0\n",
        "\n",
        "for sentence in unique_questions:\n",
        "    count = len(sentence.split())\n",
        "    if count >= 20:\n",
        "        if buffer:\n",
        "            merged.append(\" \".join(buffer))\n",
        "            buffer = []\n",
        "            word_count = 0\n",
        "        merged.append(sentence)\n",
        "    else:\n",
        "        buffer.append(sentence)\n",
        "        word_count += count\n",
        "        if word_count >= 20:\n",
        "            merged.append(\" \".join(buffer))\n",
        "            buffer = []\n",
        "            word_count = 0\n",
        "\n",
        "if buffer:\n",
        "    merged.append(\" \".join(buffer))\n",
        "\n",
        "# Save to file\n",
        "with open(output_file, \"w\", encoding=\"utf-8\") as f:\n",
        "    f.write(\"\\n\".join(merged))\n",
        "\n",
        "print(f\"✅ Done! Total merged question blocks: {len(merged)}\")\n"
      ],
      "metadata": {
        "colab": {
          "base_uri": "https://localhost:8080/"
        },
        "id": "dGvCRgbMjP2o",
        "outputId": "8427ed92-54ce-4a2b-9812-18c550b00b2c"
      },
      "execution_count": 3,
      "outputs": [
        {
          "output_type": "stream",
          "name": "stdout",
          "text": [
            "Processed page 10/260\n",
            "Processed page 20/260\n",
            "Processed page 30/260\n",
            "Processed page 40/260\n",
            "Processed page 50/260\n",
            "Processed page 60/260\n",
            "Processed page 70/260\n",
            "Processed page 80/260\n",
            "Processed page 90/260\n",
            "Processed page 100/260\n",
            "Processed page 110/260\n",
            "Processed page 120/260\n",
            "Processed page 130/260\n",
            "Processed page 140/260\n",
            "Processed page 150/260\n",
            "Processed page 160/260\n",
            "Processed page 170/260\n",
            "Processed page 180/260\n",
            "Processed page 190/260\n",
            "Processed page 200/260\n",
            "Processed page 210/260\n",
            "Processed page 220/260\n",
            "Processed page 230/260\n",
            "Processed page 240/260\n",
            "Processed page 250/260\n",
            "Processed page 260/260\n",
            "✅ Done! Total merged question blocks: 65\n"
          ]
        }
      ]
    },
    {
      "cell_type": "code",
      "source": [
        "import re\n",
        "\n",
        "input_file = \"merged_questions.txt\"\n",
        "output_file = \"sequenced_questions.txt\"\n",
        "\n",
        "# Read text file\n",
        "with open(input_file, \"r\", encoding=\"utf-8\") as f:\n",
        "    text = f.read()\n",
        "\n",
        "# Split into sentences\n",
        "sentences = re.split(r'(?<=[.?!])\\s+', text)\n",
        "sentences = [s.strip() for s in sentences if s.strip()]\n",
        "\n",
        "# Keep only questions\n",
        "questions = [s for s in sentences if '?' in s]\n",
        "\n",
        "# Remove duplicates while preserving order\n",
        "unique_questions = list(dict.fromkeys(questions))\n",
        "\n",
        "# Merge short questions (<20 words) into lines of >=20 words\n",
        "merged_lines = []\n",
        "buffer = []\n",
        "word_count = 0\n",
        "\n",
        "for sentence in unique_questions:\n",
        "    words_in_sentence = len(sentence.split())\n",
        "\n",
        "    if words_in_sentence >= 20:\n",
        "        # Long sentence, flush buffer first\n",
        "        if buffer:\n",
        "            merged_lines.append(\" \".join(buffer))\n",
        "            buffer = []\n",
        "            word_count = 0\n",
        "        merged_lines.append(sentence)\n",
        "    else:\n",
        "        buffer.append(sentence)\n",
        "        word_count += words_in_sentence\n",
        "        if word_count >= 20:\n",
        "            merged_lines.append(\" \".join(buffer))\n",
        "            buffer = []\n",
        "            word_count = 0\n",
        "\n",
        "# Add remaining buffer\n",
        "if buffer:\n",
        "    merged_lines.append(\" \".join(buffer))\n",
        "\n",
        "# Save merged lines to output, adding a full stop to each line\n",
        "with open(output_file, \"w\", encoding=\"utf-8\") as f:\n",
        "    for line in merged_lines:\n",
        "        # Add a full stop to the end of the line\n",
        "        f.write(line + \".\\n\")\n",
        "\n",
        "print(f\"✅ Done! Total lines: {len(merged_lines)}\")\n",
        "print(f\"Output saved to: {output_file}\")"
      ],
      "metadata": {
        "colab": {
          "base_uri": "https://localhost:8080/"
        },
        "id": "u1z4f2JHpxmk",
        "outputId": "e470788c-a2c3-4306-b3c9-fb7638cabe5c"
      },
      "execution_count": 6,
      "outputs": [
        {
          "output_type": "stream",
          "name": "stdout",
          "text": [
            "✅ Done! Total lines: 65\n",
            "Output saved to: sequenced_questions.txt\n"
          ]
        }
      ]
    },
    {
      "cell_type": "code",
      "source": [
        "input_file = \"sequenced_questions.txt\"\n",
        "output_file = \"sentences_by_fullstop.txt\"\n",
        "\n",
        "# Read the text file\n",
        "with open(input_file, \"r\", encoding=\"utf-8\") as f:\n",
        "    text = f.read()\n",
        "\n",
        "# Remove all existing line breaks and extra spaces\n",
        "text = \" \".join(text.split())\n",
        "\n",
        "# Split by full stops (keep the full stop at the end)\n",
        "sentences = [s.strip() + '.' for s in text.split('.') if s.strip()]\n",
        "\n",
        "# Save each sentence as one line\n",
        "with open(output_file, \"w\", encoding=\"utf-8\") as f:\n",
        "    for sentence in sentences:\n",
        "        f.write(sentence + \"\\n\")\n",
        "\n",
        "print(f\"✅ Done! Total sentences: {len(sentences)}\")\n",
        "print(f\"Output saved to: {output_file}\")\n"
      ],
      "metadata": {
        "colab": {
          "base_uri": "https://localhost:8080/"
        },
        "id": "uHVPRmhMr0ol",
        "outputId": "c3e237c4-0664-437a-bfa5-9645f154faaa"
      },
      "execution_count": 7,
      "outputs": [
        {
          "output_type": "stream",
          "name": "stdout",
          "text": [
            "✅ Done! Total sentences: 89\n",
            "Output saved to: sentences_by_fullstop.txt\n"
          ]
        }
      ]
    },
    {
      "cell_type": "code",
      "source": [
        "input_file = \"sentences_by_fullstop.txt\"\n",
        "\n",
        "# Read the sentences file\n",
        "with open(input_file, \"r\", encoding=\"utf-8\") as f:\n",
        "    sentences = [line.strip() for line in f if line.strip()]\n",
        "\n",
        "# Count words per sentence and display\n",
        "for idx, sentence in enumerate(sentences, 1):\n",
        "    word_count = len(sentence.split())\n",
        "    print(f\"{idx}: {word_count} words -> {sentence}\")\n"
      ],
      "metadata": {
        "colab": {
          "base_uri": "https://localhost:8080/"
        },
        "id": "FYFAT2aEspmI",
        "outputId": "a8c7cea5-f8aa-45d9-f21d-8aee91e22132"
      },
      "execution_count": 8,
      "outputs": [
        {
          "output_type": "stream",
          "name": "stdout",
          "text": [
            "1: 20 words -> Aantanno xa’muwa gedeere xa’mitinanni niwaawennire hasaabbe: • Guulchu maati? • Rosu umi maati? • Konninni woy tenne niwaawenni ronseemmori maati?.\n",
            "2: 21 words -> • Konni rosire anfoommori woluri maati? Mannu coyi’ranna anfoommori, odootenni macciishshinoommori, nabbanbe afi’noommori marichi no? • Konne umo la”annohunni laonke hiittoote?.\n",
            "3: 26 words -> • Konni umire afate hasi’neemmori woluri maati? • Tenne niwaawe nabbawankenni ninke assineemmori baxxinori maati? Mite mite haaro qaallare hasaabbe; togo yitinanni: • Togo yaa mayyaate?.\n",
            "4: 22 words -> • Kuni qaali niwaawe huwatate kaa’lannonkeho? • Babbaxxitino eonniiti horonsi’noonnihu? • Hee’rate amuraati’ya giddoonni ani ma garinni horonsi’reemmo/a? Rosaanote Maxaafi Maricho Amadanno?.\n",
            "5: 20 words -> Kalaqamu elinore yinanniri maati? Itophiyaho muxxe dubbu saadaati yinoonniri hiikkuriiti? Itophiyaho jawiidi lagi hiikkonneeti? Kalaqamunni afi’nannire qorombe amada hasiissannohu mayraati?.\n",
            "6: 25 words -> Kalaqamu qarqara la”a afidhino horo maati? Sidaamu giddo afantanno ilaalla hiikkuriiti? Garambi ilaali Sidaamu giddo hiikko qarqarira leellanno? Kalaqamu qarqara qorombe amada marichi horo afidhino?.\n",
            "7: 20 words -> Kalaqama egenna yaa mayyaate? Kalaqama bade afa mayra hasiissanno? Kalaqamu jiro ba’annokki gede maa assa hasiissanno? Kalaqamu jiro yinanniri hiikkuriiti?.\n",
            "8: 24 words -> Kalaqamu jiro ba’annokki gede assate maa assa hasiissanno? Kalaqamu jiro hafanfarte ba’uro qarru iillannohu ayeraati? “Kalaqamu Jiro Agarooshshe,” yitanno niwaawe nabbawitto/a woyte marichi leellihe?.\n",
            "9: 29 words -> Nabbanboonni Mommoddo Xawadu garinni daqiiqi me”eho? Woroonni shiqino xawishshi giddonni irki’raano xaadisaanora (qaali- suuddara) gara ikkitino hedo hiittenneeti? Aante shiqqino hedo giddo guuta xaadisaano qaallara gara ikkino xawishshi hiikkonneeti?.\n",
            "10: 24 words -> Fayyimmate agarooshshi loosaasincho ila ayiddira Maatete Quwishshi Mayimmare hasaawa assitanna Maatete Quwishshi Mayimma Keere galtini ayidde? Lawishsha Xa’mo: Ooso quwunni ilate hiittoo doogo horonsi’nanni?.\n",
            "11: 21 words -> Ooso ilate balanxe maricho assa hasiissanno? Maate quwunni ila hoongiro makkinanni? Maate batinsikki ila afidhino horo maati? Hagiirraame maate hiittoota labbannohe?.\n",
            "12: 23 words -> Shiqishaancho hasaawisenni macciishaanote marichi sokka sayissara hasidhinoha lawannohe? Hagiirraame maate heedhanno gede maa assa hasiissanno? Maate quwunni ilate mixo fushshate qoodi noohu ayeraati?.\n",
            "13: 5 words -> Ooso quwunni ila yaa mayyaate?.\n",
            "14: 17 words -> [Rosaano, aante shiqqinoti nabbanbanni niwaawe, mittu woradi fayyimmate agarooshshi ogeessi mittu olliira ila ayiddira assino hasaawaatina nabbabbe.\n",
            "15: 8 words -> ] Maatete Quwishshi Lao Meyaa labbaahu keere galtini?.\n",
            "16: 21 words -> Wolqa fajjitukkinni ooso batinse illiro iillanno qarri maati? Qixxaawo assinikki illoonni oosichi maricho hooganno? Illoonni oosicho garunni lossate maa assa hasiissanno?.\n",
            "17: 22 words -> “Loonsohu loowe chuucanno,” yitanno hedo addahonso xaraho? Mayira? Konni hasaawi shiqishaanchi, macciishshaanote maytanno sokka saysara hasi’rinoha lawannohe? Qaaqquullu amadooshshi hiittooha ikka noosi?.\n",
            "18: 29 words -> Qaaqquulleho anjesa dirira heedheenna addintanni assa hasiisannorichi maati? Amuwunna annuwu qaaqquullinsa heeshshora shiqisha hasiissannori sasu qarurichi maati? Fayyimmate agarooshshi ogeettenna ila amuwinna qaaqquulle’ne annuwi hasaawaho gamba yitinore hiittoonni amaddinanni?.\n",
            "19: 24 words -> Maatete heeshsho giddo qaaqquullu amadooshshi hiittooha ikka noosi? Qaaqquullu anje dirira gawajjannore badde affannokkihura maricho assa hasiissanno? Uddanonsa garunni hayishshine amada hoongiro maricho abbitanno?.\n",
            "20: 1 words -> Ech.\n",
            "21: 1 words -> Ay.\n",
            "22: 8 words -> V/Eedisi manchi beettira kalaqamunni noota maricho gawajjanno? Ech.\n",
            "23: 1 words -> Ay.\n",
            "24: 8 words -> V/Eedisi dhibbi leellishanno malaatta giddo lame borreessi? Ech.\n",
            "25: 1 words -> Ay.\n",
            "26: 5 words -> V/Eedisi roorenka gawajjannohu ayeti? Ech.\n",
            "27: 1 words -> Ay.\n",
            "28: 4 words -> V/Eedisi ittisate qoodi ayeho?.\n",
            "29: 1 words -> Ech.\n",
            "30: 1 words -> Ay.\n",
            "31: 24 words -> V/Eedisi marichi korinni amadannoha lawannohe? Tenne niwaawe borreesaanchi nabbawanno mannira hiittoo sokka saysara hasi’rinoha lawannohe? Loosoho dhuka afidhinoti aja dume garunni amada mayra hasiissanno?.\n",
            "32: 1 words -> Ech.\n",
            "33: 1 words -> Ay.\n",
            "34: 26 words -> V/Eedisi taraawo hala’la miinju lopho aana mayi daninni mitiimma iillishshanno? Kuu”u qaaqqi ateho? Worqu Maammohu ilaminohu mamaati? Worqu Maammohu amasi Addisaawa hadhuta isi hiikko hee’ra hanafi?.\n",
            "35: 20 words -> Worqu anjesinni hee’reenna iillitinosi jaddo maati? Worqu umo nabbawanna borreessa hanafinohu mamaati? Worqu umi dirimi roso gudi gedensaanni maricho loosino?.\n",
            "36: 28 words -> Biddissa 2 Konni woroonni shiqqino coy fooliishshuwa giddo Ilamishshu dhagge yitanno qaalla hasiisanno garinni horonsi’noonnihu hiittenne coy fooliishshoraati? Nabbawate Albaanni Biddissa Sai barra nabbambummo ilamishshu niwaawe ayee lainohunniiti?.\n",
            "37: 22 words -> Yannate gurdi ledaanora - mamoote? Dargu gurdi ledaanora - mama? Amasi amaale adhe ajuujasi afihu gedensaanni marichi looso hanafi? Hiittoo loosaancho ikki?.\n",
            "38: 22 words -> Techo kowiichira dayitto? Afeworqi Takilehu seesi-qalote looso hanafinohu mageeshshihu hee’reeti? Afeworqi Takilehu ilaminohu mamarooti? Afeworqi ilaminohu mamaati? Afeworqi gobbasinni adhino yawo mayitannote?.\n",
            "39: 22 words -> Mamiwaro • Qaru Misilaanchi maricho asssate Dhagge mamanna mamaro wo’naali? kalaqantino? • Assootu mayinni gumulami? Qara Misilaano Dhaggete giddo roorinni ayre borreessinoonni?.\n",
            "40: 27 words -> Hexxo woy Shetto Qaru misilaanchi ikkara hasi’rinori maati? Ga’labbo Dhaggete jeefora marichi kalaqami? Dhaggete ha’rinsho hiitto ikkite soorrantu? duhinokkihu nafa ha’ra hooge hee’reenna mayra baysiinse shinanni qaaqqooti?.\n",
            "41: 23 words -> “Way Heeshshote” yaa mayyaate? Daadanno way xalala ikkiro agate ikkannonso/di”ikkanno? Mayra? Co’ichu way yaa mayyaate? Qarqaraho agate ikkannoha co’icha waa hiikkinni afi’ra dandiinanni?.\n",
            "42: 23 words -> Hiitto assine co’inse horonsi’nanni? Ago mayra agatto? Hiikku manchi hasi’noe? Uddano hiikko woritta? Shuuramo loosoho ha’rinoni? Salleela balaxxe jaalasera togo yitu: “Laitta dhagge?.\n",
            "43: 20 words -> Qara Misilaano: Tini dhagge ayeoo lainohunni berreessantinote? Hexxo/Shetto: Dhaggete giddo noo misilaano mereero kalaqantino mitiimma maati? Tini uddano ayra hirroonnite?.\n",
            "44: 27 words -> Itophiyaho noo garbuwa isi me”ete? Seekkine nabbawa hoongiro gumu hiittooha ikkanno? Baarangi ledannoti, “Ati tenne calla yaatto? Ganote ikkito Dhagge mamanna mamaro Qaru misilaanchi maricho assate kalaqantino?.\n",
            "45: 22 words -> wo’naali? Qara Misilaano Dhagge giddo roorinni ayre borreessinoonni? Hexxo woy Shetto Qara dhaggete misilaancho ikkitara hasidhinori maati? Dhaggete ha’rinsho hiitto ikkite soorrantu?.\n",
            "46: 20 words -> Morka ago mayra agatto? Techo itoottori maati? Be’ro qarqaraho canco kalaqihu ayeti? Kaa’lama yaa mayyaate? Ayeti ikka? Dusha keere galtini?.\n",
            "47: 17 words -> ooso rosu mininni daggu? (Loosoho fullohu heellakkonna billawa waa’linohu minira dayhu gedensaanni hayishshi’re uddi’re biife mine ofollanno.\n",
            "48: 5 words -> ) Qumuce: Soommita keere galitto?.\n",
            "49: 27 words -> Maaho golaho mayra ofollootta? Dureette: Qamuce maaholla? ise hige massitara yootto? Ikkixana mancho hatti-Qamuce qarrantanna sammi yine la’nummota afittoyya? Qoleno ho’richu noowa funta massine kaashsha kaansummoro diwoyyanno?.\n",
            "50: 20 words -> Gabbiso: Maahoyyena mammoote woyyaannonkeyya? Loggiti: Ga’a Arbete, Eembarra rosu nookki daafira hakko barra diwoyyannonke? Tenne niwaawe giddo qara misilaano ayeooti?.\n",
            "51: 20 words -> Qamucenna Dureette heedhannohu mamaati? Tenne diraamu niwaawe giddo Qamucera iillinose qarri maati? Niwaawete garinni Qamuce iillinose qarra hiitto assite tidhitu?.\n",
            "52: 22 words -> Tenne diraamu niwaawe nabbawitto/a woyte marichi sokka sayissannoha lawannohe? Konni macciishshitto/a diraamu dhagge giddo su’masi/e kayinsoonnihu/ti ayeti? Tinne dhaggera ikkitote dargi mamaati?.\n",
            "53: 25 words -> Diraamu giddo Ayyaanera iillinose qarri maati? Ba’riitenna Maa’nitu Ayyaanera kaa’lannoseta kuleennase goxxinowa heedhe hiitto ikkitu? Asso Mite 22kkII l S B Doogiso: Keere galitto Gonnama?.\n",
            "54: 26 words -> Kawoote soodikkinni mamira gutatto? Maaho ati barru baala gate gatella yaatto? Mannu hosanno hoshsha dihosatto? Kuni ma garaati? (Urde baattote qase qoteho irkisi’re Doogiso xunse la”anni.\n",
            "55: 6 words -> ) Doogiso: Mayra so’ratto maaho Gonnama?.\n",
            "56: 12 words -> Wole dilgora ha’rankera albaanni uminke looso loonse guda diwoyyitanno? Looso roorannori noonni?.\n",
            "57: 5 words -> Gonnami hajosira fule heeshshi yaanno.\n",
            "58: 20 words -> ) Asso Lame [Gonnami ooso sasu: Buchaachi, Maassamenna Bunnaaqi doogo yaaddanni hadhanni; Doogiso ooso: Hobbaasi Kaayyitenna Gabbiite ledo xaadde hasaabbanno.\n",
            "59: 5 words -> ] Hobbaasi: Buchaacha keere galtinni?.\n",
            "60: 12 words -> Maaho ma ikkitinoonni? Baalunku alba shibbi yitinoonni? Wodanunni wolere malanni no daafira.\n",
            "61: 10 words -> ) Kaayyite: Ki’ne rosoho mayra borreessama gibbinoonni? Maaho qarru nooni?.\n",
            "62: 25 words -> Gabbiite: Mayyitanni nootta? Ati sumuu yoottakkiha hiitto maahoyye yaanno? Isi ayeraati aannohehu? Mayra dee’ni di”ikkanno ani dihasi’reemma diyaatta? (Hanqitino gede ikkite qaale naggi assite coydhanno.\n",
            "63: 11 words -> ) Maassame: Ki’ne ballo haafa yitine coydhinanni anera mayi wolqa nooe?.\n",
            "64: 21 words -> Anni’ya yiinohu gobbanni ikke afeemmani? Keere galitta? Ate ooso rosu minira dihadhino? Idaayya: Mayyitanni nootta? Dirossanno? Atino isi yiiwa hoodete ha’ratta?.\n",
            "65: 17 words -> Giwiro fulte ayiddeho diqaxxaratta? Mayinniho qishu? yaattahu? maaho ayiddu gobbaanni galino manchootini? (Hanqite qaale naggi assite coydhanno.\n",
            "66: 7 words -> ) Faayyo: Yaakki halaalehona, xa maahoyye yaannoeni?.\n",
            "67: 23 words -> Keere hositto? Gosoomi: Mayyitanni nootto? Seennu labballi rosona, taalona yinanni hee’noonni yannara beetto eemmo yaakki mayyaakkiiti? Gonnami ooso baalunku mayra alba shibbi yitino?.\n",
            "68: 25 words -> Tenne diraamu niwaawe giddo Maassamera iillino qarri maati? Aleenni shiqqino diraamu niwaawe giddo qara misilaano ayeooti? Niwaawete garinni Maassamera iillino qarri hiitto ikke galabbo afi’ri?.\n",
            "69: 17 words -> Leellamo baadiri mayilla no? Konne manna hiissine raga qollanni? Lamenti gamba yee dagoomu xaadooshshe woyyeessinanni gara malanno.\n",
            "70: 4 words -> ] Maxine: Afitta Leenda?.\n",
            "71: 11 words -> (Leenda, Maxine coydhe guxxita geeshsha sammi yite macciishshitanni badose agadhite haadhanno.\n",
            "72: 12 words -> ) Leenda: Eewanni yaakki danchatena, kayinnilla mannu shotu garinni sumuu yaanno yiteetini?.\n",
            "73: 11 words -> Hiissine sumuu assinanni yaatta? Lamunku rosu mininni higganni lami-ledote uurrite hasaabbanno.\n",
            "74: 12 words -> ] Harmiite: Salfaaqo techo ki’ne maricho rossine daggini? Kaayyamo: Ma dhagge daggu?.\n",
            "75: 25 words -> Konni diraami giddo qara misilaano ayeooti? Kaayyamo, “Yaachishannoeri no,” yinori maati? Niwaawete giddo ikkitote dargi mamaati? Tini lami-hasaawu garinni shiqqinoti diraamu niwaawe sayissanno sokka maati?.\n",
            "76: 21 words -> Manchi beeti ganye ago agannoha ikkiro marichi qarri iillannosi? Ago aga iillishshanno mitiimma hiittenneeti? Agu araadonni meessaneeto qorophate maa assa hasiissanno?.\n",
            "77: 27 words -> Ago agatenni daggara dandiitanno dhibbuwa hiikkuriiti? Agu jaddo loosate xixxiiwannohu mayraati? Agu lasenni gatate maa assa hasiissanno? Tini sharrosi paarlaamu miilla be’e assiteenna, “Maminni dayno uggaati?” yinoonni.\n",
            "78: 22 words -> Woldamaaneeli Dubbaalihu ilaminohu mamaati? Woldamaaneeli sharro hanafinohu mageeshshihu hee’reeti? Woldamaaneeli sharramasinni abbino soorro maati? Woldamaaneeli dagate giddo ayirrinye afi’ranno gede assinosiri maati?.\n",
            "79: 24 words -> Baallichi Worawohu urde kaysinohu ayee ledooti? Baallicha Worawoha diinu anga uy yiisita isi maa assi? Luulsaggadi urde baallichanna woloota Sidaamu gosa moote dogisiissinohu mayraati?.\n",
            "80: 25 words -> Laanqamo Naaramohu ‘Rasi Dastinni’ filame gaadu looso hanafihu mamarooti? Laanqamo qodho qineessate qeecha adhe umi yannara mamira gaadino? Laanqamo iibbino minesi agure olaho fulinohu mayraati?.\n",
            "81: 25 words -> Laanqamonna miillasi bisinsa moychu gede orda fushsha geeshsha sharrantinoti halchonsa maati? Shombu dhibbi amadiro leellitanno malaatta hiikkuriiti? Shombu dhibbi amadannokki gede assa hasiissanno qoropho maati?.\n",
            "82: 24 words -> Shombu dhibbi amadinota huluullammiro maa assa hasiissanno? Ganshu dhibbi taraawannohu mayinniiti? Ganshu dhibbi amadiro leellishanno malaatta giddonni ikkitinori hiikkuriiti? Haxo-mokkookkisinna koleeru dhibbuwa marichinni taraabbanno?.\n",
            "83: 26 words -> Haxo-mokkookkisi amadiro leellishanno malaatta hiittoote? Koleeru dhibbi amadiro wolu dhibbinni baxxite leellitanno malaatta hiikkuriiti? Kittiwaatu roorinni hasiisannohu ayeooraati? Bisunniti gobbaydi diinna gargadhate wolqa jawaata ikkitannohu mamooteeti?.\n",
            "84: 27 words -> Baanata, be’ro hakkiicho uwino sina ayi boci’ri? Kiirote giddo layinki gufora me”e sinna noose? Shiqqino kiiro me”e gufo afidhino? Shiqqino kiiro giddo shoolki gufora noo aanchito hiittenneeti?.\n",
            "85: 25 words -> Kiirote giddo uminna layinki gufo mereero noo badooshshi maati? Lawishsha - Isi dayni? - Ladawe hadhuni? - Insa goxxuni? Weedote kiiro giddose me”e gufo amaddino?.\n",
            "86: 27 words -> Weedote kiiro giddo sayikki gufo meu sini noose? Weedote kiiro giddo mittu sini me”e handaarra amadino? Geewote kiiro umi gufora ontikki sini hiikkonne misilshu afoo giddosi amadino?.\n",
            "87: 13 words -> Geewote kiirora sayikki gufora ontikkinna tonaa mitikki sini giddo noori misilshu afuubba hiikkuriiti?.\n",
            "88: 8 words -> Addisaawa ha’ranno kaameeli hiikko uurranno? Murrichinke ha’rinowiinni higini?.\n",
            "89: 12 words -> Sidaamu Afiira_________ rosiisaanchi dayi’ne? Kifilete giddo haariimannohu ________? Qaaqquullu goxxu _________? e’uni?.\n"
          ]
        }
      ]
    },
    {
      "cell_type": "code",
      "source": [
        "input_file = \"sentences_by_fullstop.txt\"\n",
        "output_ge_20 = \"sentences_20_or_more.txt\"\n",
        "output_lt_20 = \"sentences_less_20.txt\"\n",
        "\n",
        "# Read all sentences\n",
        "with open(input_file, \"r\", encoding=\"utf-8\") as f:\n",
        "    sentences = [line.strip() for line in f if line.strip()]\n",
        "\n",
        "# Separate sentences\n",
        "ge_20 = []\n",
        "lt_20 = []\n",
        "\n",
        "for sentence in sentences:\n",
        "    word_count = len(sentence.split())\n",
        "    if word_count >= 20:\n",
        "        ge_20.append(sentence)\n",
        "    else:\n",
        "        lt_20.append(sentence)\n",
        "\n",
        "# Save sentences >=20 words\n",
        "with open(output_ge_20, \"w\", encoding=\"utf-8\") as f:\n",
        "    for s in ge_20:\n",
        "        f.write(s + \"\\n\")\n",
        "\n",
        "# Save sentences <20 words\n",
        "with open(output_lt_20, \"w\", encoding=\"utf-8\") as f:\n",
        "    for s in lt_20:\n",
        "        f.write(s + \"\\n\")\n",
        "\n",
        "print(f\"✅ Done!\")\n",
        "print(f\"Sentences >=20 words: {len(ge_20)} saved in {output_ge_20}\")\n",
        "print(f\"Sentences <20 words: {len(lt_20)} saved in {output_lt_20}\")\n"
      ],
      "metadata": {
        "colab": {
          "base_uri": "https://localhost:8080/"
        },
        "id": "mpZ9xWvVtM4r",
        "outputId": "b40dfe84-6d1f-4627-a391-622d4cc55ebd"
      },
      "execution_count": 9,
      "outputs": [
        {
          "output_type": "stream",
          "name": "stdout",
          "text": [
            "✅ Done!\n",
            "Sentences >=20 words: 53 saved in sentences_20_or_more.txt\n",
            "Sentences <20 words: 36 saved in sentences_less_20.txt\n"
          ]
        }
      ]
    }
  ]
}